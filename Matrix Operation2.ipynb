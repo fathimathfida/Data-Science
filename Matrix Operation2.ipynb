{
 "cells": [
  {
   "cell_type": "code",
   "execution_count": 3,
   "id": "bb73ef19",
   "metadata": {},
   "outputs": [
    {
     "name": "stdout",
     "output_type": "stream",
     "text": [
      "Addition:\n",
      "[[10 12]\n",
      " [10 12]]\n",
      "Subtraction:\n",
      "[[ 0  0]\n",
      " [-4 -4]]\n",
      "\n",
      "Element-Wise Multiplication:\n",
      "[[25 36]\n",
      " [21 32]]\n",
      "\n",
      "Matrix Multiplication:\n",
      "[[67 78]\n",
      " [43 50]]\n",
      "\n",
      "Transpose:\n",
      "[[5 3]\n",
      " [6 4]]\n"
     ]
    }
   ],
   "source": [
    "import numpy as np\n",
    "#create matrices\n",
    "A=np.array([[5,6],[3,4]])\n",
    "B=np.array([[5,6],[7,8]])\n",
    "#Addition\n",
    "C=A+B\n",
    "#Subtraction\n",
    "D=A-B\n",
    "#Multiplication(element-wise)\n",
    "E=A*B\n",
    "#Matrix Multiplication\n",
    "F=np.dot(A, B) # or A @ B\n",
    "#Transpose\n",
    "A_transpose=A.T\n",
    "print(\"Addition:\")\n",
    "print(C)\n",
    "print(\"Subtraction:\")\n",
    "print(D)\n",
    "print(\"\\nElement-Wise Multiplication:\")\n",
    "print(E)\n",
    "print(\"\\nMatrix Multiplication:\")\n",
    "print(F)\n",
    "print(\"\\nTranspose:\")\n",
    "print(A_transpose)"
   ]
  },
  {
   "cell_type": "code",
   "execution_count": null,
   "id": "a02dc15c",
   "metadata": {},
   "outputs": [],
   "source": []
  }
 ],
 "metadata": {
  "kernelspec": {
   "display_name": "Python 3 (ipykernel)",
   "language": "python",
   "name": "python3"
  },
  "language_info": {
   "codemirror_mode": {
    "name": "ipython",
    "version": 3
   },
   "file_extension": ".py",
   "mimetype": "text/x-python",
   "name": "python",
   "nbconvert_exporter": "python",
   "pygments_lexer": "ipython3",
   "version": "3.11.4"
  }
 },
 "nbformat": 4,
 "nbformat_minor": 5
}
