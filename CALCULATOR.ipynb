{
 "cells": [
  {
   "cell_type": "code",
   "execution_count": null,
   "id": "a70a94d9",
   "metadata": {},
   "outputs": [
    {
     "name": "stdout",
     "output_type": "stream",
     "text": [
      "Select the operations:\n",
      "1.Addition\n",
      "2.Subtraction\n",
      "3.Division\n",
      "4.Multiplication\n"
     ]
    }
   ],
   "source": [
    "print(\"Select the operations:\")\n",
    "print(\"1.Addition\")\n",
    "print(\"2.Subtraction\")\n",
    "print(\"3.Division\")\n",
    "print(\"4.Multiplication\")\n",
    "choice=int(input(\"Enter the choice:\"))\n",
    "num1=int(input(\"Enter the first number:\"))\n",
    "num2=int(input(\"Enter the second number:\"))\n",
    "if(choice==1):\n",
    "    print(\"Addition =\",num1+num2)\n",
    "elif(choice==2):\n",
    "    print(\"Subtraction =\",num1-num2)\n",
    "elif(choice==3):\n",
    "    print(\"Division =\",num1/num2)\n",
    "elif(choice==4):\n",
    "    print(\"Multiplication =\",num1*num2)\n",
    "else:\n",
    "    print(\"invalid\")"
   ]
  },
  {
   "cell_type": "code",
   "execution_count": null,
   "id": "84c219f2",
   "metadata": {},
   "outputs": [],
   "source": []
  },
  {
   "cell_type": "code",
   "execution_count": null,
   "id": "19b4a673",
   "metadata": {},
   "outputs": [],
   "source": []
  }
 ],
 "metadata": {
  "kernelspec": {
   "display_name": "Python 3 (ipykernel)",
   "language": "python",
   "name": "python3"
  },
  "language_info": {
   "codemirror_mode": {
    "name": "ipython",
    "version": 3
   },
   "file_extension": ".py",
   "mimetype": "text/x-python",
   "name": "python",
   "nbconvert_exporter": "python",
   "pygments_lexer": "ipython3",
   "version": "3.11.4"
  }
 },
 "nbformat": 4,
 "nbformat_minor": 5
}
