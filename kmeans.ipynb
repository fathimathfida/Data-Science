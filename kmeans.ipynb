{
 "cells": [
  {
   "cell_type": "code",
   "execution_count": 13,
   "id": "dc950ca6",
   "metadata": {
    "scrolled": false
   },
   "outputs": [
    {
     "name": "stdout",
     "output_type": "stream",
     "text": [
      "     id  age  mark\n",
      "0   100   78    97\n",
      "1   101   22    46\n",
      "2   102    8    23\n",
      "3   103   47    70\n",
      "4   104   61    53\n",
      "5   105   24    90\n",
      "6   106   25    92\n",
      "7   107   70    41\n",
      "8   108   13    30\n",
      "9   109   44    68\n",
      "10  110    4     8\n",
      "11  111   51    56\n",
      "12  112   25    30\n",
      "13  113   76     4\n",
      "14  114   79    48\n",
      "15  115    1    43\n",
      "16  116   24    28\n",
      "17  117   56    11\n",
      "18  118   73    83\n",
      "19  119   66    18\n",
      "20  120    2    55\n",
      "21  121   61    47\n",
      "22  122   39    89\n",
      "23  123    9    11\n",
      "24  124   25    47\n",
      "25  125    1    44\n",
      "26  126   49    38\n",
      "27  127   52    62\n",
      "28  128   35    10\n",
      "29  129   69    52\n",
      "[[100  78  97]\n",
      " [101  22  46]\n",
      " [102   8  23]\n",
      " [103  47  70]\n",
      " [104  61  53]\n",
      " [105  24  90]\n",
      " [106  25  92]\n",
      " [107  70  41]\n",
      " [108  13  30]\n",
      " [109  44  68]\n",
      " [110   4   8]\n",
      " [111  51  56]\n",
      " [112  25  30]\n",
      " [113  76   4]\n",
      " [114  79  48]\n",
      " [115   1  43]\n",
      " [116  24  28]\n",
      " [117  56  11]\n",
      " [118  73  83]\n",
      " [119  66  18]\n",
      " [120   2  55]\n",
      " [121  61  47]\n",
      " [122  39  89]\n",
      " [123   9  11]\n",
      " [124  25  47]\n",
      " [125   1  44]\n",
      " [126  49  38]\n",
      " [127  52  62]\n",
      " [128  35  10]\n",
      " [129  69  52]]\n"
     ]
    },
    {
     "data": {
      "image/png": "[encoded data removed]",
      "text/plain": [
       "<Figure size 640x480 with 1 Axes>"
      ]
     },
     "metadata": {},
     "output_type": "display_data"
    }
   ],
   "source": [
    "from sklearn.model_selection import train_test_split\n",
    "import matplotlib.pyplot as plt\n",
    "import pandas as pd\n",
    "import pandas as pd\n",
    "a= pd.read_csv(\"Data.csv\")\n",
    "print(a)\n",
    "x=a.iloc[:,:].values\n",
    "print(x)\n",
    "\n",
    "#no traing test required\n",
    "from sklearn.cluster import KMeans\n",
    "kmeans=KMeans(init='k-means++',n_clusters=3,n_init=10,random_state=0).fit(x)\n",
    "p=kmeans.predict(x)\n",
    "\n",
    "import matplotlib.pyplot as plt\n",
    "colors=list(map(lambda x:'#3b4cc0' if x==1 else '#000000',p))\n",
    "plt.scatter(x[:,0],x[:,1],c=colors,marker='+',picker=True)\n",
    " \n",
    "plt.show()"
   ]
  },
  {
   "cell_type": "code",
   "execution_count": null,
   "id": "1c98f7b0",
   "metadata": {},
   "outputs": [],
   "source": []
  }
 ],
 "metadata": {
  "kernelspec": {
   "display_name": "Python 3 (ipykernel)",
   "language": "python",
   "name": "python3"
  },
  "language_info": {
   "codemirror_mode": {
    "name": "ipython",
    "version": 3
   },
   "file_extension": ".py",
   "mimetype": "text/x-python",
   "name": "python",
   "nbconvert_exporter": "python",
   "pygments_lexer": "ipython3",
   "version": "3.11.5"
  }
 },
 "nbformat": 4,
 "nbformat_minor": 5
}
